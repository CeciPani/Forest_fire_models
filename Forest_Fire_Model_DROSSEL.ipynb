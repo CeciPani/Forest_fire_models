{
 "cells": [
  {
   "cell_type": "markdown",
   "metadata": {},
   "source": [
    "# DROSSEL SCHWABL Forest Fire Model"
   ]
  },
  {
   "cell_type": "markdown",
   "metadata": {},
   "source": [
    "This simulation is based on the work of:\n",
    "\n",
    "Drossel, B. and Schwabl, F. (1992), \"Self-organized critical forest-fire model.\" Phys. Rev. Lett. 69, 1629–1632."
   ]
  },
  {
   "cell_type": "code",
   "execution_count": null,
   "metadata": {
    "collapsed": false
   },
   "outputs": [],
   "source": [
    "%pylab inline"
   ]
  },
  {
   "cell_type": "code",
   "execution_count": null,
   "metadata": {
    "collapsed": false
   },
   "outputs": [],
   "source": [
    "import numpy as np\n",
    "import collections as col\n",
    "from matplotlib import colors\n",
    "from scipy.ndimage import measurements\n",
    "from scipy import ndimage\n",
    "import os\n",
    "import pandas as pd"
   ]
  },
  {
   "cell_type": "code",
   "execution_count": null,
   "metadata": {
    "collapsed": false
   },
   "outputs": [],
   "source": [
    "#if not present, it creates the directory to save gif images\n",
    "if os.path.isdir(\"./images_DROSSEL_gif\") == False:\n",
    "    ! mkdir images_DROSSEL_gif"
   ]
  },
  {
   "cell_type": "markdown",
   "metadata": {},
   "source": [
    "## This function initializes the forest"
   ]
  },
  {
   "cell_type": "code",
   "execution_count": null,
   "metadata": {
    "collapsed": false
   },
   "outputs": [],
   "source": [
    "def forest_init(p,L):\n",
    "    \n",
    "    \"\"\"\n",
    "    This function initializes the forest with the following rule:\n",
    "    \n",
    "    p = an empty space fills with a tree with probability p\n",
    "    L = linear dimension of the forest (L,L)\n",
    "    \n",
    "    it returns a 2D numpy array with shape (L,L) filled with binary values: \n",
    "    0 = empty cell (ground)\n",
    "    1 = tree\n",
    "    \n",
    "    the returned array is padded with zeros \n",
    "    \n",
    "    e.g. forest_init(0.30,50)\"\"\"\n",
    "    \n",
    "    if (p>1)|(p<0):\n",
    "        \n",
    "        return 'p must be a probability in [0,1]'\n",
    "    \n",
    "    else:\n",
    "        r = rand(L-2,L-2)\n",
    "        foresta = np.zeros((L-2,L-2), dtype = int)\n",
    "        \n",
    "        #an empty space fills with a tree with probability p\n",
    "        foresta[r<p] = 1 \n",
    "                    \n",
    "    return np.pad(foresta, pad_width=[(1,1),(1,1)], mode='constant', constant_values=0)"
   ]
  },
  {
   "cell_type": "markdown",
   "metadata": {},
   "source": [
    "## This function spreads the fire to all forest clusters with at least one burning tree"
   ]
  },
  {
   "cell_type": "code",
   "execution_count": null,
   "metadata": {
    "collapsed": false
   },
   "outputs": [],
   "source": [
    "def cluster_fire(foresta):\n",
    "    \n",
    "    \"\"\"\n",
    "    This function takes a forest as input parameter, finds the forest clusters and set on fire\n",
    "    those with one burning tree. It return the area of the burning forest-clusers and the updated forest.\n",
    "    \"\"\"\n",
    "\n",
    "    foresta_buf = zeros(foresta.size,dtype=int)\n",
    "    clusters_pos = []\n",
    "    clusters = []\n",
    "    \n",
    "    lbl, nlbl = ndimage.label(foresta)\n",
    "    lbls = np.arange(1, nlbl+1)\n",
    "\n",
    "    positions = numpy.arange(foresta.size).reshape(foresta.shape)\n",
    "\n",
    "    for i in lbls:\n",
    "        clusters.append(foresta[lbl==i])\n",
    "        clusters_pos.append(positions[lbl==i])\n",
    "\n",
    "    for cluster in clusters:                     #it iterates the list of forest clusters\n",
    "    \n",
    "        if len(cluster[cluster==2])>0:           #if one cluster tree it's struck by lightning the whole cluster\n",
    "            cluster.fill(2)                      #it's burned down\n",
    "    \n",
    "    for clust, pos in zip(clusters,clusters_pos):\n",
    "\n",
    "        for i in range(0,len(clust)):\n",
    "            foresta_buf[pos[i]] = clust[i]\n",
    "            \n",
    "    foresta_buf = foresta_buf.reshape(foresta.shape)\n",
    "    \n",
    "    only_burning_clusters = foresta_buf.copy()\n",
    "    only_burning_clusters[only_burning_clusters!=2]=0\n",
    "    only_burning_clusters[only_burning_clusters==2]=1\n",
    "    cluster_label, n_cluster = measurements.label(only_burning_clusters)\n",
    "    areas = measurements.sum(only_burning_clusters, cluster_label, index=arange(cluster_label.max() + 1))\n",
    "    \n",
    "\n",
    "    return areas[1:], foresta_buf"
   ]
  },
  {
   "cell_type": "markdown",
   "metadata": {},
   "source": [
    "## This function burns to the ground all burning forest clusters"
   ]
  },
  {
   "cell_type": "code",
   "execution_count": null,
   "metadata": {
    "collapsed": false
   },
   "outputs": [],
   "source": [
    "def burning_to_empty(foresta):\n",
    "    \"This function burns down the whole forest cluster if one of its trees it's struck with lightning\"\n",
    "    #The burning cells turn into empty cells\n",
    "    foresta[foresta==2]=0\n",
    "    return foresta"
   ]
  },
  {
   "cell_type": "markdown",
   "metadata": {},
   "source": [
    "## This function update the forest (lightnings and growing trees)"
   ]
  },
  {
   "cell_type": "code",
   "execution_count": null,
   "metadata": {
    "collapsed": false
   },
   "outputs": [],
   "source": [
    "def tree_grow_and_lightnings(foresta,p,f):\n",
    "    \n",
    "    \"\"\"\n",
    "    This function takes a forest element (np.array LxL), \n",
    "    the probability p of a tree growing in an empy cell, the lightning probability f \n",
    "    and returns the updated forest     \n",
    "    \"\"\"\n",
    "    \n",
    "    if (p>1)|(p<0):\n",
    "        return 'p must be a probability in [0,1]'\n",
    "    elif (f>1)|(f<0):\n",
    "        return 'f must be a probability in [0,1]'\n",
    "    else:\n",
    "        #the tree dynamic is confined to the inner forest\n",
    "        r = rand(foresta.shape[0]-2,foresta.shape[1]-2)\n",
    "        inner_forest = foresta[1:foresta.shape[0]-1,1:foresta.shape[1]-1]\n",
    "        inner_forest[(inner_forest==1)&(r<f)] = 2\n",
    "        inner_forest[(inner_forest==0)&(r<p)] = 1\n",
    "        foresta[1:foresta.shape[0]-1,1:foresta.shape[1]-1] = inner_forest\n",
    "\n",
    "    return foresta"
   ]
  },
  {
   "cell_type": "markdown",
   "metadata": {},
   "source": [
    "## Simulation"
   ]
  },
  {
   "cell_type": "code",
   "execution_count": null,
   "metadata": {
    "collapsed": false
   },
   "outputs": [],
   "source": [
    "########################### SIMULATION PARAMETERS\n",
    "\n",
    "L = 256\n",
    "p_init = 0.30\n",
    "p_grow = 0.057\n",
    "f = 0.005\n",
    "tmax = 700 # each simulation step t consists of 3 different temporal steps \n",
    "forest_fire_areas_list = []\n",
    "cmap1 = colors.ListedColormap(['#4D0000','#228B22','red'])\n",
    "cmap2 = colors.ListedColormap(['#4D0000','#228B22'])\n",
    "\n",
    "\n",
    "########################### FOREST INIT\n",
    "\n",
    "foresta = forest_init(p_init,L) \n",
    "\n",
    "########################### SIMULATION DYNAMIC\n",
    "\n",
    "i = 0    \n",
    "for t in range(1,tmax):\n",
    "    #### check if there is any tree struck by lightning and set the colormap\n",
    "    if len(foresta[foresta ==2]) > 0:\n",
    "        cmap = cmap1\n",
    "    else:\n",
    "        cmap = cmap2\n",
    "\n",
    "    #### all the cluster with at least one buring tree are set on fire    \n",
    "    forest_fire_area_t, foresta = cluster_fire(foresta)\n",
    "    forest_fire_areas_list.append(forest_fire_area_t)\n",
    "    i+=1\n",
    "    imshow(foresta,cmap=cmap)\n",
    "    savefig('./images_DROSSEL_gif/forestFire_snapshot_time_'+str(i)+'.png')\n",
    "\n",
    "    \n",
    "    #### all the buring cluster are burned to the ground  \n",
    "    burning_to_empty(foresta)\n",
    "    if len(foresta[foresta ==2]) > 0:\n",
    "        cmap = cmap1\n",
    "    else:\n",
    "        cmap = cmap2\n",
    "    i+=1\n",
    "    imshow(foresta,cmap=cmap)\n",
    "    savefig('./images_DROSSEL_gif/forestFire_snapshot_time_'+str(i)+'.png')\n",
    "\n",
    "    \n",
    "    #### some trees are struck by lightnings and other trees grow in empty cells\n",
    "    tree_grow_and_lightnings(foresta,p_grow,f)\n",
    "    if len(foresta[foresta ==2]) > 0:\n",
    "        cmap = cmap1\n",
    "    else:\n",
    "        cmap = cmap2\n",
    "    i+=1\n",
    "    imshow(foresta,cmap=cmap)\n",
    "    savefig('./images_DROSSEL_gif/forestFire_snapshot_time_'+str(i)+'.png')\n",
    "    \n",
    "num_img = i"
   ]
  },
  {
   "cell_type": "code",
   "execution_count": null,
   "metadata": {
    "collapsed": false
   },
   "outputs": [],
   "source": [
    "from images2gif import writeGif\n",
    "from PIL import Image\n",
    "import os"
   ]
  },
  {
   "cell_type": "code",
   "execution_count": null,
   "metadata": {
    "collapsed": false
   },
   "outputs": [],
   "source": [
    "immagini = [Image.open('./images_DROSSEL_gif/forestFire_snapshot_time_'+str(i)+'.png') for i in range(1,400)]"
   ]
  },
  {
   "cell_type": "code",
   "execution_count": null,
   "metadata": {
    "collapsed": false
   },
   "outputs": [],
   "source": [
    "filename = \"my_gif_p=\"+str(p_grow)+\"_f=\"+str(f)+\"_DRO.GIF\"\n",
    "writeGif(filename, immagini, duration=0.7)"
   ]
  },
  {
   "cell_type": "markdown",
   "metadata": {},
   "source": [
    "# Testing if the fire extention behaves according to a power law"
   ]
  },
  {
   "cell_type": "markdown",
   "metadata": {},
   "source": [
    "$p(x) = x^{-\\alpha}$ "
   ]
  },
  {
   "cell_type": "code",
   "execution_count": null,
   "metadata": {
    "collapsed": false
   },
   "outputs": [],
   "source": [
    "num_cluster_areaA = col.defaultdict(int)\n",
    "\n",
    "for clusters_size in forest_fire_areas_list[1:]:\n",
    "    for cluster_size in clusters_size:\n",
    "        num_cluster_areaA[int(cluster_size)] += 1"
   ]
  },
  {
   "cell_type": "code",
   "execution_count": null,
   "metadata": {
    "collapsed": true
   },
   "outputs": [],
   "source": [
    "# to save simulation results\n",
    "area_list = []\n",
    "p_area_list = []\n",
    "\n",
    "for key, value in num_cluster_areaA.iteritems():\n",
    "    area_list.append(key)\n",
    "    p_area_list.append(value)\n",
    "\n",
    "fout=open('simulation_areas_freq.csv','w')  \n",
    "fout.write('area, area_freq\\n')\n",
    "for i in range(0,len(area_list)):\n",
    "    fout.write(str(area_list[i])+','+str(p_area_list[i])+'\\n')\n",
    "fout.close()"
   ]
  },
  {
   "cell_type": "code",
   "execution_count": null,
   "metadata": {
    "collapsed": false
   },
   "outputs": [],
   "source": [
    "#if you want to analyze an old simulation\n",
    "area_list = []\n",
    "p_area_list = []\n",
    "\n",
    "fin = open('simulation_areas_freq.csv','r')\n",
    "l = fin.readlines()\n",
    "\n",
    "for line in l[1:]:\n",
    "    s = line.strip(' ').split(',')  \n",
    "\n",
    "    area_list.append(int(s[0]))\n",
    "    p_area_list.append(int(s[1]))\n",
    " \n",
    "\n",
    "fin.close()    "
   ]
  },
  {
   "cell_type": "code",
   "execution_count": null,
   "metadata": {
    "collapsed": false
   },
   "outputs": [],
   "source": [
    "ax = plt.gca()\n",
    "ax.scatter(area_list,p_area_list)\n",
    "ax.set_yscale('log')\n",
    "ax.set_xscale('log')\n",
    "ax.set_xlabel('$log_{10}(fire \\ area\\ A)$')\n",
    "ax.set_ylabel('$log_{10}(frequency\\ of\\ fire \\ area \\ f_A)$')\n",
    "ax.set_xlim(right=max(area_list))\n",
    "ax.set_ylim(bottom=min(p_area_list))\n",
    "#ax.axvline(x=256,color='r')\n",
    "savefig('./powerlaw_distribution.png')"
   ]
  },
  {
   "cell_type": "markdown",
   "metadata": {},
   "source": [
    "# Analysis using powerlaw library"
   ]
  },
  {
   "cell_type": "markdown",
   "metadata": {},
   "source": [
    "http://www.plosone.org/article/info%3Adoi%2F10.1371%2Fjournal.pone.0085777"
   ]
  },
  {
   "cell_type": "code",
   "execution_count": null,
   "metadata": {
    "collapsed": false
   },
   "outputs": [],
   "source": [
    "import powerlaw"
   ]
  },
  {
   "cell_type": "markdown",
   "metadata": {},
   "source": [
    "A fit of a data set to various probability distributions, namely power laws. \n",
    "\n",
    "For fits to power laws, the methods of Clauset et al. 2007 are used.\n",
    "\n",
    "These methods identify the portion of the tail of the distribution that follows a power law, beyond a value xmin. If no xmin is provided, the optimal one is calculated and assigned at initialization."
   ]
  },
  {
   "cell_type": "code",
   "execution_count": null,
   "metadata": {
    "collapsed": false
   },
   "outputs": [],
   "source": [
    "fit = powerlaw.Fit(p_area_list,xmin=1,xmax=256)"
   ]
  },
  {
   "cell_type": "markdown",
   "metadata": {},
   "source": [
    "The goodness of these distribution fits can be compared with **distribution_compare** method. \n",
    "\n",
    "The test is based on the **likelihood ratio**, which expresses how many times more likely the data are under one model than the other. This likelihood ratio, or equivalently its logarithm, can then be used to compute a p-value.\n",
    "\n",
    "Among the supported distributions is the exponentially truncated power law, which has the power law's scaling behavior over some range but is truncated by an exponentially bounded tail."
   ]
  },
  {
   "cell_type": "markdown",
   "metadata": {},
   "source": [
    "A power law with an exponential cutoff is simply a power law multiplied by an exponential function:\n",
    "    $f(x) \\propto x^{\\alpha}e^{\\lambda x}$"
   ]
  },
  {
   "cell_type": "code",
   "execution_count": null,
   "metadata": {
    "collapsed": false
   },
   "outputs": [],
   "source": [
    "R,p=fit.distribution_compare('power_law', 'truncated_power_law')\n",
    "print \"R = \",R\n",
    "print \"p = \",p"
   ]
  },
  {
   "cell_type": "markdown",
   "metadata": {},
   "source": [
    "R is the loglikelihood ratio between the two candidate distributions (how many times more likely the data are under one model than the other).\n",
    "\n",
    "p is the p-value (the probability of obtaining a test statistic result at least as extreme or as close to the one that was actually observed, assuming that the null hypothesis is true)\n",
    "\n",
    "This number will be positive if the data is more likely in the first distribution, and negative if the data is more likely in the second distribution. "
   ]
  },
  {
   "cell_type": "code",
   "execution_count": null,
   "metadata": {
    "collapsed": false
   },
   "outputs": [],
   "source": [
    "R, p = fit.distribution_compare('exponential', 'truncated_power_law')\n",
    "print \"R = \",R\n",
    "print \"p = \",p"
   ]
  },
  {
   "cell_type": "code",
   "execution_count": null,
   "metadata": {
    "collapsed": false
   },
   "outputs": [],
   "source": [
    "print str(fit.truncated_power_law.parameter1_name)+': '+ str(fit.truncated_power_law.parameter1)\n",
    "print str(fit.truncated_power_law.parameter2_name)+': '+ str(fit.truncated_power_law.parameter2)"
   ]
  }
 ],
 "metadata": {
  "anaconda-cloud": {},
  "kernelspec": {
   "display_name": "Python [default]",
   "language": "python",
   "name": "python2"
  },
  "language_info": {
   "codemirror_mode": {
    "name": "ipython",
    "version": 2
   },
   "file_extension": ".py",
   "mimetype": "text/x-python",
   "name": "python",
   "nbconvert_exporter": "python",
   "pygments_lexer": "ipython2",
   "version": "2.7.12"
  }
 },
 "nbformat": 4,
 "nbformat_minor": 0
}
