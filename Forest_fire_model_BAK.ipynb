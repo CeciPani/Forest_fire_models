{
 "cells": [
  {
   "cell_type": "markdown",
   "metadata": {},
   "source": [
    "# BAK, CHEN, TANG   Forest Fire Model"
   ]
  },
  {
   "cell_type": "code",
   "execution_count": null,
   "metadata": {
    "collapsed": false
   },
   "outputs": [],
   "source": [
    "%pylab inline"
   ]
  },
  {
   "cell_type": "code",
   "execution_count": null,
   "metadata": {
    "collapsed": false
   },
   "outputs": [],
   "source": [
    "import numpy as np\n",
    "import pandas as pd\n",
    "import collections as col\n",
    "from matplotlib import colors\n",
    "from scipy.ndimage import measurements\n",
    "from scipy.ndimage import find_objects\n",
    "import os"
   ]
  },
  {
   "cell_type": "code",
   "execution_count": null,
   "metadata": {
    "collapsed": true
   },
   "outputs": [],
   "source": [
    "#if not present, it creates the directory to save gif images\n",
    "if os.path.isdir(\"./images_BAK_gif\") == False:\n",
    "    ! mkdir images_BAK_gif"
   ]
  },
  {
   "cell_type": "markdown",
   "metadata": {},
   "source": [
    "## This function initializes the forest"
   ]
  },
  {
   "cell_type": "code",
   "execution_count": null,
   "metadata": {
    "collapsed": false
   },
   "outputs": [],
   "source": [
    "def forest_init(p,f,L):\n",
    "    \n",
    "    \"\"\"\n",
    "    This function initializes the forest with the following rules\n",
    "    p = an empty space fills with a tree with probability p\n",
    "    f = a tree catches fire with probability f\n",
    "    L = linear dimension of the forest \n",
    "    \n",
    "    The function return a 2D numpy array with shape (L,L) filled with:\n",
    "    1 = tree\n",
    "    2 = fire\n",
    "    0 = empty\n",
    "    \n",
    "    the returned array is padded with zeros\n",
    "    \n",
    "    e.g. forest_init(0.30,0.02,50)\"\"\"\n",
    "    \n",
    "    if (p>1)|(p<0):\n",
    "        \n",
    "        return 'p must be a probability in [0,1]'\n",
    "\n",
    "    if (f>1)|(f<0):\n",
    "        \n",
    "        return 'f must be a probability in [0,1]'\n",
    "    \n",
    "    r = rand(L-2,L-2)\n",
    "    foresta = np.zeros((L-2,L-2), dtype = int)\n",
    "    \n",
    "    foresta[r<p] = 1 #a tree grows with probability p\n",
    "    foresta[r<f] = 2 #a tree catch fire with probability f\n",
    "                    \n",
    "    return np.pad(foresta, pad_width=[(1,1),(1,1)], mode='constant', constant_values=0)"
   ]
  },
  {
   "cell_type": "markdown",
   "metadata": {},
   "source": [
    "## This function updates the cell status"
   ]
  },
  {
   "cell_type": "markdown",
   "metadata": {},
   "source": [
    "Two cells are considered neighbor according to *Von Neumann neighborhood* "
   ]
  },
  {
   "cell_type": "code",
   "execution_count": null,
   "metadata": {
    "collapsed": false
   },
   "outputs": [],
   "source": [
    "def spread(i,j,p):\n",
    "    \"\"\"This function defines the nearest neighbour interactions and updates the [i,j] cell status;\n",
    "       if a cell is burning it becomes empty and if a cell is empty is filled with a tree with probability p\n",
    "    \"\"\"\n",
    "    \n",
    "    if foresta[i][j] == 1: #if one of the neighbours of the tree is on fire the tree catches fire\n",
    "       \n",
    "        if (foresta[i-1][j] == 2 or foresta[i][j-1] == 2 or foresta[i+1][j] == 2 or foresta[i][j+1] == 2) :\n",
    "            \n",
    "            return 2            \n",
    "        else:\n",
    "            return 1\n",
    "    \n",
    "    \n",
    "    if foresta[i][j] == 2: # if a cell is burning it becomes empty\n",
    "        return 0\n",
    "    \n",
    "    if foresta[i][j] == 0: # if a cell is empty is filled with a tree with probability p \n",
    "        \n",
    "        if rand() < p:\n",
    "            return 1\n",
    "        else:\n",
    "            return 0\n"
   ]
  },
  {
   "cell_type": "markdown",
   "metadata": {},
   "source": [
    "## This function updates the forest status"
   ]
  },
  {
   "cell_type": "code",
   "execution_count": null,
   "metadata": {
    "collapsed": false
   },
   "outputs": [],
   "source": [
    "def apply_spread(foresta,p):\n",
    "    \"This function applies the spread function to all its elements.\"\n",
    "    \n",
    "    foresta_buff = np.zeros(foresta.shape,dtype=int)\n",
    "    \n",
    "    for i in range(1,foresta.shape[0]-1):\n",
    "        for j in range(1,foresta.shape[1]-1):\n",
    "            foresta_buff[i][j] = spread(i,j,p)\n",
    "    \n",
    "    return foresta_buff"
   ]
  },
  {
   "cell_type": "markdown",
   "metadata": {},
   "source": [
    "## Simulation"
   ]
  },
  {
   "cell_type": "code",
   "execution_count": null,
   "metadata": {
    "collapsed": false
   },
   "outputs": [],
   "source": [
    "L = 256\n",
    "p_init = 0.40      # this is the initialization parameters\n",
    "p_grow = 0.057     # after a cell is burned down, it's filled with a tree with probability p\n",
    "f = 0.001\n",
    "\n",
    "cmap1 = colors.ListedColormap(['#4D0000','#228B22','red'])\n",
    "cmap2 = colors.ListedColormap(['#4D0000','#228B22'])\n",
    "\n",
    "foresta = forest_init(p_init,f,L)\n",
    "print 'number of tree on fire: ', len(foresta[foresta==2])\n",
    "\n",
    "tmax = 200 # number of steps\n",
    "\n",
    "if len(foresta[foresta==2])>0:  \n",
    "    \n",
    "    for t in range(1,tmax):\n",
    "        \n",
    "        foresta_buff = apply_spread(foresta,p_grow)\n",
    "        foresta = foresta_buff\n",
    "                \n",
    "            \n",
    "        if len(foresta[foresta==2])>0:\n",
    "            cmap = cmap1\n",
    "        else:\n",
    "            cmap = cmap2\n",
    "            print 'no more trees burning!'\n",
    "\n",
    "            \n",
    "        imshow(foresta_buff,cmap=cmap)\n",
    "        savefig('./images_BAK_gif/forest_Fire_'+str(t)+'.png')\n",
    "        show()\n",
    "    \n",
    "else:  \n",
    "    print \"there was no fire\"\n",
    "    "
   ]
  },
  {
   "cell_type": "code",
   "execution_count": null,
   "metadata": {
    "collapsed": false
   },
   "outputs": [],
   "source": [
    "from images2gif import writeGif\n",
    "from PIL import Image\n",
    "import os"
   ]
  },
  {
   "cell_type": "code",
   "execution_count": null,
   "metadata": {
    "collapsed": false
   },
   "outputs": [],
   "source": [
    "immagini = [Image.open('./images_BAK_gif/forest_Fire_'+str(t)+'.png') for t in range(1,tmax)]"
   ]
  },
  {
   "cell_type": "code",
   "execution_count": null,
   "metadata": {
    "collapsed": true
   },
   "outputs": [],
   "source": [
    "filename = \"my_gif_p=\"+str(p_grow)+\"_f=\"+str(f)+\"_BAK.GIF\"\n",
    "writeGif(filename, immagini, duration=0.1,repeat=True)\n",
    "filename"
   ]
  },
  {
   "cell_type": "code",
   "execution_count": null,
   "metadata": {
    "collapsed": true
   },
   "outputs": [],
   "source": []
  }
 ],
 "metadata": {
  "kernelspec": {
   "display_name": "Python [default]",
   "language": "python",
   "name": "python2"
  },
  "language_info": {
   "codemirror_mode": {
    "name": "ipython",
    "version": 2
   },
   "file_extension": ".py",
   "mimetype": "text/x-python",
   "name": "python",
   "nbconvert_exporter": "python",
   "pygments_lexer": "ipython2",
   "version": "2.7.12"
  }
 },
 "nbformat": 4,
 "nbformat_minor": 0
}
